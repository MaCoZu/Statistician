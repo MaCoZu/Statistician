{
 "cells": [
  {
   "cell_type": "code",
   "execution_count": 1,
   "metadata": {},
   "outputs": [],
   "source": [
    "import stats_functions as sf\n",
    "import pandas as pd"
   ]
  },
  {
   "cell_type": "code",
   "execution_count": 2,
   "metadata": {},
   "outputs": [
    {
     "data": {
      "text/plain": [
       "0      1713\n",
       "1      1763\n",
       "2      1753\n",
       "3      1784\n",
       "4      1783\n",
       "       ... \n",
       "355    5854\n",
       "356    5839\n",
       "357    5846\n",
       "358    5936\n",
       "359       .\n",
       "Name: MRTSSM4453USS_20220114, Length: 360, dtype: object"
      ]
     },
     "execution_count": 2,
     "metadata": {},
     "output_type": "execute_result"
    }
   ],
   "source": [
    "data = pd.read_csv(\"../data/alc_sales.csv\")\n",
    "\n",
    "arr = data.iloc[:, 1]\n",
    "# arr = data.iloc[:, 1].values\n",
    "arr"
   ]
  },
  {
   "cell_type": "code",
   "execution_count": 6,
   "metadata": {},
   "outputs": [],
   "source": [
    "import numpy as np\n",
    "import pandas as pd\n",
    "import scipy.stats as st\n",
    "\n",
    "import re\n",
    "import warnings\n",
    "\n",
    "def clean_to_numeric_array(data):\n",
    "    \"\"\"\n",
    "    Cleans up any data format (list, Series, set, generator) and returns a NumPy array\n",
    "    of floats or integers. Handles common issues like missing values, invalid strings,\n",
    "    whitespace, and other non-numeric data.\n",
    "\n",
    "    Args:\n",
    "        data (list, Series, set, generator): Input data that needs to be cleaned.\n",
    "\n",
    "    Returns:\n",
    "        np.ndarray: A cleaned NumPy array of numeric data (float or int).\n",
    "    \"\"\"\n",
    "    # Convert data to an iterable list\n",
    "    if isinstance(data, (pd.Series, list, set, tuple, np.ndarray)):\n",
    "        data = list(data)\n",
    "    elif hasattr(data, '__iter__'):\n",
    "        data = list(data)\n",
    "    else:\n",
    "        raise ValueError(\"Unsupported data type. Provide list, Series, set, or generator.\")\n",
    "\n",
    "    # Helper function to clean individual values\n",
    "    def clean_value(val):\n",
    "        if pd.isna(val):  # Handle missing values (NaN, None)\n",
    "            return np.nan\n",
    "        \n",
    "        if isinstance(val, str):\n",
    "            # Remove extra whitespace\n",
    "            val = val.strip()\n",
    "            \n",
    "            # Remove commas from numbers (e.g., \"1,000\" -> \"1000\")\n",
    "            val = val.replace(',', '')\n",
    "\n",
    "            # Remove any currency symbols or percentage signs\n",
    "            val = re.sub(r'[^\\d\\.\\-]', '', val)\n",
    "\n",
    "            # Handle empty strings after cleaning\n",
    "            if val == '':\n",
    "                return np.nan\n",
    "\n",
    "        # Attempt to convert cleaned value to a float\n",
    "        try:\n",
    "            return float(val)\n",
    "        except ValueError:\n",
    "            return np.nan  # Return NaN for any invalid conversions\n",
    "\n",
    "    # Apply cleaning to the entire data array\n",
    "    cleaned_data = np.array([clean_value(x) for x in data], dtype=float)\n",
    "\n",
    "    # Optional: Filter out NaNs if desired (uncomment below to enable)\n",
    "    # cleaned_data = cleaned_data[~np.isnan(cleaned_data)]\n",
    "\n",
    "    return cleaned_data\n",
    "    \n",
    "    \n",
    "def confidence_interval(data, confidence=0.95, pop_std=None):\n",
    "    \"\"\"\n",
    "    Calculates the confidence interval for the population mean.\n",
    "    - Uses t-distribution for n<=30\n",
    "    - Uses Normal distribution for n>30\n",
    "    - If populations standard deviation is provided the \n",
    "      standard error of the mean (sem) is calculated with it.\n",
    "\n",
    "    Args:\n",
    "        data (array-like): Data sample.\n",
    "        confidence (float): Level of confidence (e.g., 0.95 for 95% confidence).\n",
    "        pop_std (float, optional): Population standard deviation. Defaults to None.\n",
    "\n",
    "    Returns:\n",
    "        tuple: Lower and upper bounds of the confidence interval.\n",
    "    \"\"\"\n",
    "    data = clean_to_numeric_array(data)\n",
    "    n = len(data)\n",
    "    mean = np.mean(data)\n",
    "\n",
    "    # uses t-distribution for less than 30 observations\n",
    "    if not pop_std and n <= 30:\n",
    "        return st.t.interval(confidence, df=n - 1, loc=mean, scale=st.sem(data)) \n",
    "\n",
    "    # normal-dist for n>30\n",
    "    if not pop_std and n > 30:\n",
    "        return st.norm.interval(confidence, loc=mean, scale=st.sem(data))\n",
    "\n",
    "    # if population standard deviation is provided \n",
    "    # normal-dist is used & standard error of the mean is calculated with pop_std.\n",
    "    sem = pop_std / np.sqrt(n)\n",
    "    return st.norm.interval(confidence, loc=mean, scale=sem)\n"
   ]
  },
  {
   "cell_type": "code",
   "execution_count": 8,
   "metadata": {},
   "outputs": [
    {
     "data": {
      "text/plain": [
       "(np.float64(nan), np.float64(nan))"
      ]
     },
     "execution_count": 8,
     "metadata": {},
     "output_type": "execute_result"
    }
   ],
   "source": [
    "sf.confidence_interval(arr, 0.95)"
   ]
  },
  {
   "cell_type": "code",
   "execution_count": null,
   "metadata": {},
   "outputs": [],
   "source": []
  }
 ],
 "metadata": {
  "kernelspec": {
   "display_name": "Python 3",
   "language": "python",
   "name": "python3"
  },
  "language_info": {
   "codemirror_mode": {
    "name": "ipython",
    "version": 3
   },
   "file_extension": ".py",
   "mimetype": "text/x-python",
   "name": "python",
   "nbconvert_exporter": "python",
   "pygments_lexer": "ipython3",
   "version": "3.12.5"
  }
 },
 "nbformat": 4,
 "nbformat_minor": 2
}
